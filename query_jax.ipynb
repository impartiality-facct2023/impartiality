{
 "cells": [
  {
   "cell_type": "markdown",
   "id": "9254fc3e-f640-420f-bc1c-3135aff4b0cb",
   "metadata": {},
   "source": [
    "# FairPATE Games"
   ]
  },
  {
   "cell_type": "code",
   "execution_count": null,
   "id": "03947360-3b68-4e42-bd9a-a5b36ceaf95b",
   "metadata": {},
   "outputs": [],
   "source": [
    "%load_ext autoreload\n",
    "%autoreload 2"
   ]
  },
  {
   "cell_type": "code",
   "execution_count": null,
   "id": "260090a0-8ca3-4590-ba09-2fd883220404",
   "metadata": {},
   "outputs": [],
   "source": [
    "from fairPATE_jax import query_fairPATE, finite_diff\n",
    "import numpy as np\n",
    "import jax\n",
    "from jax import numpy as jnp\n",
    "import matplotlib.pyplot as plt\n",
    "import seaborn as sns"
   ]
  },
  {
   "cell_type": "code",
   "execution_count": null,
   "id": "ebe129d5-9352-415c-bfb0-de9130445ce5",
   "metadata": {},
   "outputs": [],
   "source": [
    "from scipy.optimize import minimize"
   ]
  },
  {
   "cell_type": "code",
   "execution_count": null,
   "id": "075d719b-c2fb-453a-ad17-7e16de71cefc",
   "metadata": {},
   "outputs": [],
   "source": [
    "# load the correct data from an ensemble-model folder:\n",
    "path = \"./20-models/\"\n",
    "targets = np.load(path + \"model(1)-targets-(mode-random)-dataset-colormnist.npy\").astype(float)\n",
    "raw_votes = np.load(path + \"model(1)-raw-votes-mode-random-vote-type-discrete.npy\").astype(float)\n",
    "sensitives = np.load(path + \"model(1)-sensitives-(mode-random)-dataset-colormnist.npy\").astype(float)\n",
    "key = jax.random.PRNGKey(0)\n",
    "key, subkey1, subkey2 = jax.random.split(key, 3)\n",
    "accuracy, answered, gaps = query_fairPATE(50.0, 5.0, 0.22, 0.2, 50, subkey1, subkey2, raw_votes=raw_votes, targets=targets, sensitives=sensitives)"
   ]
  },
  {
   "cell_type": "code",
   "execution_count": null,
   "id": "dc7ed17a-e926-475b-84eb-4757c058bd1f",
   "metadata": {},
   "outputs": [],
   "source": [
    "accuracy, answered, gaps"
   ]
  }
 ],
 "metadata": {
  "kernelspec": {
   "display_name": "Python 3",
   "language": "python",
   "name": "python3"
  },
  "language_info": {
   "codemirror_mode": {
    "name": "ipython",
    "version": 3
   },
   "file_extension": ".py",
   "mimetype": "text/x-python",
   "name": "python",
   "nbconvert_exporter": "python",
   "pygments_lexer": "ipython3",
   "version": "3.10.6 (main, Nov 14 2022, 16:10:14) [GCC 11.3.0]"
  },
  "vscode": {
   "interpreter": {
    "hash": "31f2aee4e71d21fbe5cf8b01ff0e069b9275f58929596ceb00d14d90e3e16cd6"
   }
  }
 },
 "nbformat": 4,
 "nbformat_minor": 5
}
