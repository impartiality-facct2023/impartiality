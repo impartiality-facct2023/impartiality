{
 "cells": [
  {
   "cell_type": "code",
   "execution_count": null,
   "metadata": {
    "id": "Uq0mkgFq9XHJ"
   },
   "outputs": [],
   "source": [
    "import jax\n",
    "from jax import numpy as jnp\n",
    "import pandas as pd\n",
    "import numpy as np\n",
    "import seaborn as sns\n",
    "from matplotlib import pyplot as plt\n",
    "from matplotlib.offsetbox import AnchoredText"
   ]
  },
  {
   "cell_type": "code",
   "execution_count": null,
   "metadata": {},
   "outputs": [],
   "source": [
    "from jax import make_jaxpr"
   ]
  },
  {
   "cell_type": "code",
   "execution_count": null,
   "metadata": {
    "id": "3du7eATG9lec"
   },
   "outputs": [],
   "source": [
    "path = \"./20-models/\"\n",
    "targets = np.load(path + \"targets-multiclass-model(1)-labels-(mode:random)-(threshold:300.0)-(sigma-gnmax:40.0)-(sigma-threshold:200.0)-(budget:16.00)-transfer-.npy\").astype(float)\n",
    "# raw_queries = np.load(path + \"raw-queries-multiclass-model(1)-labels-(mode:random)-(threshold:300.0)-(sigma-gnmax:40.0)-(sigma-threshold:200.0)-(budget:16.00)-transfer-.npy\")\n",
    "raw_votes = np.load(path + \"model(1)-raw-votes-mode-random-vote-type-discrete.npy\").astype(float)\n",
    "# raw_votes_attacker = np.load(path + \"model(1)-raw-votes-(mode-random)-dataset-colormnist-attacker-.npy\")\n",
    "# aggreagted_labels = np.load(path + \"aggregated-labels-multiclass-model(1)-labels-(mode:random)-(threshold:300.0)-(sigma-gnmax:40.0)-(sigma-threshold:200.0)-(budget:16.00)-transfer-.npy\")"
   ]
  },
  {
   "cell_type": "code",
   "execution_count": null,
   "metadata": {
    "id": "O-KqJeysnOYS"
   },
   "outputs": [],
   "source": [
    "def one_hot(x, k, dtype=jnp.float32):\n",
    "    \"\"\"Create a one-hot encoding of x of size k.\"\"\"\n",
    "    return jnp.array(x[:, None] == jnp.arange(k), dtype)"
   ]
  },
  {
   "cell_type": "code",
   "execution_count": null,
   "metadata": {
    "colab": {
     "base_uri": "https://localhost:8080/"
    },
    "id": "q35AN-mIQhkS",
    "outputId": "07e24cdc-ca9d-4e71-b4ba-13ebd481adb6"
   },
   "outputs": [],
   "source": [
    "key = jax.random.PRNGKey(0)"
   ]
  },
  {
   "cell_type": "code",
   "execution_count": null,
   "metadata": {
    "id": "ZtnhzTjQ_BTw"
   },
   "outputs": [],
   "source": [
    "def query(sigma_threshold, sigma_gnmax, threshold, subkey1, subkey2, func):\n",
    "    # sigma_threshold = 50\n",
    "    # sigma_gnmax = 5.0\n",
    "    # threshold = 2.0\n",
    "    num_classes = 10\n",
    "    num_samples = raw_votes.shape[0]\n",
    "    votes=raw_votes\n",
    "\n",
    "    # Threshold mechanism\n",
    "    noise_threshold = sigma_threshold * jax.random.normal(subkey1, [num_samples])\n",
    "    vote_counts = jnp.max(votes, axis=1)\n",
    "    # print(vote_counts)\n",
    "    noisy_vote_counts = vote_counts + noise_threshold\n",
    "    # print(max(noisy_vote_counts), min(noisy_vote_counts))\n",
    "    answered =  jax.vmap(lambda vote_count: jax.lax.cond(vote_count > threshold, threshold, func, threshold, lambda x: 0.0))(noisy_vote_counts)\n",
    "    # print(answered)\n",
    "    # return answered\n",
    "    # return jnp.sum(answered).astype(float)\n",
    "    # GNMax mechanism\n",
    "    noise_gnmax = sigma_gnmax * jax.random.normal(subkey2, [num_samples, num_classes])\n",
    "    preds = (votes + noise_gnmax).argmax(axis=1).astype(float)\n",
    "\n",
    "    # return jnp.sqrt(jnp.power(answered.T * (preds - targets), 2).sum())\n",
    "    preds_one_hot = one_hot(preds, 10)\n",
    "    targets_one_hot = one_hot(targets, 10)\n",
    "    accuracy = jnp.sum(answered[:, None]* (preds_one_hot * targets_one_hot))/num_samples\n",
    "    return accuracy\n",
    "key, subkey1, subkey2 = jax.random.split(key, 3)\n",
    "query(50.0, 5.0, 2.0, subkey1, subkey2, lambda x: 1.0)"
   ]
  },
  {
   "cell_type": "code",
   "execution_count": null,
   "metadata": {},
   "outputs": [],
   "source": [
    "query_ = lambda t: query(50.0, 5.0, t, subkey1, subkey2, lambda x: 1.0)\n",
    "query_jitted = jax.jit(query_)\n",
    "eps=1e-0"
   ]
  },
  {
   "cell_type": "code",
   "execution_count": null,
   "metadata": {},
   "outputs": [],
   "source": [
    "def finite_diff(func, x, eps=1e-4):\n",
    "    return (func(x + eps/2) - func(x - eps/2))/eps"
   ]
  },
  {
   "cell_type": "code",
   "execution_count": null,
   "metadata": {},
   "outputs": [],
   "source": [
    "finite_diff(query_, 2.0, eps=1)"
   ]
  },
  {
   "cell_type": "code",
   "execution_count": null,
   "metadata": {},
   "outputs": [],
   "source": [
    "eps_list = jnp.linspace(1e-4,1, 10000)\n",
    "query_fdiff_eps = jax.vmap(lambda eps: finite_diff(query_, 20.0, eps=eps))(eps_list) "
   ]
  },
  {
   "cell_type": "code",
   "execution_count": null,
   "metadata": {},
   "outputs": [],
   "source": [
    "fig, ax = plt.subplots(dpi=150)\n",
    "sns.lineplot(x=eps_list, y=query_fdiff_eps, ax=ax)\n",
    "ax.set_ylabel(r\"$\\frac{f(x_0 + \\frac{\\epsilon}{2}) - f(x_0 - \\frac{\\epsilon}{2})}{\\epsilon}$\")\n",
    "ax.set_xlabel(r\"$\\epsilon$\")\n",
    "fig.set_dpi(150)"
   ]
  },
  {
   "cell_type": "code",
   "execution_count": null,
   "metadata": {},
   "outputs": [],
   "source": [
    "eps = 1e-4\n",
    "query_fdif = (query_(2. + eps/2) - query_(2. - eps/2))/eps\n",
    "query_fdif"
   ]
  },
  {
   "cell_type": "code",
   "execution_count": null,
   "metadata": {
    "colab": {
     "base_uri": "https://localhost:8080/"
    },
    "id": "EpSEeo8oeRFF",
    "outputId": "556d769b-dbaa-4299-8afc-124ddfc6b72e"
   },
   "outputs": [],
   "source": [
    "query_driv = jax.grad(lambda t: query(50.0, 5.0, t, subkey1, subkey2, lambda x: 1.0))\n",
    "query_driv(2.0)"
   ]
  },
  {
   "cell_type": "code",
   "execution_count": null,
   "metadata": {
    "colab": {
     "base_uri": "https://localhost:8080/",
     "height": 295
    },
    "id": "E2QAHUp2miwr",
    "outputId": "f20f265d-4036-416c-a907-1699b832e905"
   },
   "outputs": [],
   "source": [
    "def _plot(columns=[\"Threshold\", \"Accuracy\"], argnum=2):\n",
    "    fig, axes = plt.subplots(2, 3, sharex=True, dpi=150, figsize=(20, 5))\n",
    "    def _subplot(func, ax_id, title, ):\n",
    "        a_range = jnp.logspace(-7, 2, num=100000)\n",
    "        in_axes = [0 if _id == argnum else None for _id in range(3)] + [None, None, None]\n",
    "        defaults = [20.0, 5.0, 2.0]\n",
    "        _inputs = [a_range if _id == argnum else defaults[_id] for _id in range(3)]\n",
    "        loss_over_a_range = jax.vmap(query, in_axes=tuple(in_axes))(*_inputs, subkey1, subkey2, func)\n",
    "\n",
    "        data = pd.DataFrame(jnp.c_[a_range, loss_over_a_range].__array__(), columns=columns)\n",
    "\n",
    "        sns.lineplot(data=data, y=columns[1], x=columns[0], ax=axes[0, ax_id])\n",
    "\n",
    "        query_driv = jax.grad(lambda t: query(50.0, 5.0, t, subkey1, subkey2, func))\n",
    "        \n",
    "        loss_driv_over_a_range = jax.vmap(query_driv)(a_range)\n",
    "        g = sns.lineplot(data=pd.DataFrame(jnp.c_[a_range, loss_driv_over_a_range].__array__(), \n",
    "                                       columns=[columns[0], f\"$grad. {columns[1]}$\"]), \n",
    "                     x=columns[0], y=f\"$grad. {columns[1]}$\", ax=axes[1, ax_id])\n",
    "        at = AnchoredText(f\"Max Val (Thr. > 20)={loss_driv_over_a_range[a_range > 20].max()}\", prop=dict(size=10), frameon=True, loc='lower right')\n",
    "        at.patch.set_boxstyle(\"round,pad=0.,rounding_size=0.2\")\n",
    "        axes[1, ax_id].add_artist(at)\n",
    "        axes[0, ax_id].set_title(title)\n",
    "\n",
    "    _subplot(lambda x: 1.0, 0, \"Step\")\n",
    "    _subplot(lambda x: jax.scipy.special.expit(x), 1, \"Logit\")\n",
    "    _subplot(lambda x: x, 2, \"Relu\")\n",
    "    # return fig"
   ]
  },
  {
   "cell_type": "code",
   "execution_count": null,
   "metadata": {
    "id": "v4AWOCQfUoX8"
   },
   "outputs": [],
   "source": [
    "_plot()"
   ]
  },
  {
   "cell_type": "code",
   "execution_count": null,
   "metadata": {},
   "outputs": [],
   "source": [
    "_plot(columns=[\"sigma_1\", \"Accuracy\"], argnum=0)"
   ]
  },
  {
   "cell_type": "code",
   "execution_count": null,
   "metadata": {},
   "outputs": [],
   "source": [
    "_plot(columns=[\"sigma_2\", \"Accuracy\"], argnum=1)"
   ]
  },
  {
   "cell_type": "markdown",
   "metadata": {
    "tags": []
   },
   "source": [
    "# Query Iter"
   ]
  },
  {
   "cell_type": "code",
   "execution_count": null,
   "metadata": {},
   "outputs": [],
   "source": [
    "def query_iter(sigma_threshold, sigma_gnmax, threshold, subkey1, subkey2, func):\n",
    "    # sigma_threshold = 50\n",
    "    # sigma_gnmax = 5.0\n",
    "    # threshold = 2.0\n",
    "    \n",
    "    num_classes = 10\n",
    "    num_samples = raw_votes.shape[0]\n",
    "    votes=raw_votes\n",
    "    noise_threshold = sigma_threshold * jax.random.normal(subkey1, [num_samples])\n",
    "    noise_gnmax = sigma_gnmax * jax.random.normal(subkey2, [num_samples, num_classes])\n",
    "    # _ids = jnp.arange(num_samples)\n",
    "    _shape = (1000, 10, 1)\n",
    "    data = jax.lax.concatenate([jnp.broadcast_to(targets[:, None, None], _shape), \n",
    "                                jnp.broadcast_to(votes[:, :, None], _shape), \n",
    "                                jnp.broadcast_to(noise_threshold[:, None, None], _shape),\n",
    "                                jnp.broadcast_to(noise_gnmax[:, :, None], _shape)], 2)\n",
    "\n",
    "    def _predict(acc, _data):\n",
    "        # print(_data.shape)\n",
    "        _target = _data[0, 0]\n",
    "        _vote = _data[:, 1]\n",
    "        _noise_threshold = _data[0, 2]\n",
    "        _noise_gnmax = _data[: ,3]\n",
    "        vote_count = _vote.max()\n",
    "        noisy_vote_count = vote_count + _noise_threshold\n",
    "        answered = jax.lax.cond(noisy_vote_count > threshold, threshold, func, threshold, lambda x: 0.0)\n",
    "        pred = (_vote + _noise_gnmax).argmax()\n",
    "        # preds[_id] = answered * pred\n",
    "        # progress.at[acc + answered * pred\n",
    "        # progress[1] = num_answered + answered\n",
    "        acc = acc + answered * (pred==_target).astype(int)\n",
    "        return acc, answered\n",
    "\n",
    "    preds = jax.lax.scan(_predict, jnp.zeros((1,)), data, length=len(votes))\n",
    "    accuracy = preds[0]/num_samples\n",
    "    return accuracy[0]"
   ]
  },
  {
   "cell_type": "code",
   "execution_count": null,
   "metadata": {},
   "outputs": [],
   "source": [
    "query_iter(50.0, 5.0, 0.22, subkey1, subkey2, lambda x: 1.0)"
   ]
  },
  {
   "cell_type": "code",
   "execution_count": null,
   "metadata": {},
   "outputs": [],
   "source": [
    "query_iter_driv = jax.grad(lambda t: query_iter(50.0, 5.0, t, subkey1, subkey2, lambda x: 1.0))"
   ]
  },
  {
   "cell_type": "code",
   "execution_count": null,
   "metadata": {},
   "outputs": [],
   "source": [
    "query_iter_driv(20.0)"
   ]
  },
  {
   "cell_type": "code",
   "execution_count": null,
   "metadata": {},
   "outputs": [],
   "source": [
    "def _plot(columns=[\"Threshold\", \"Accuracy\"], argnum=2):\n",
    "    fig, axes = plt.subplots(2, 3, sharex=True, dpi=150, figsize=(20, 5))\n",
    "    def _subplot(func, ax_id, title, ):\n",
    "        a_range = jnp.logspace(-7, 2, num=10000)\n",
    "        in_axes = [0 if _id == argnum else None for _id in range(3)] + [None, None, None]\n",
    "        defaults = [20.0, 5.0, 2.0]\n",
    "        _inputs = [a_range if _id == argnum else defaults[_id] for _id in range(3)]\n",
    "        loss_over_a_range = jax.vmap(query_iter, in_axes=tuple(in_axes))(*_inputs, subkey1, subkey2, func)\n",
    "\n",
    "        data = pd.DataFrame(jnp.c_[a_range, loss_over_a_range].__array__(), columns=columns)\n",
    "\n",
    "        sns.lineplot(data=data, y=columns[1], x=columns[0], ax=axes[0, ax_id])\n",
    "\n",
    "        query_driv = jax.grad(lambda t: query_iter(50.0, 5.0, t, subkey1, subkey2, func))\n",
    "        \n",
    "        loss_driv_over_a_range = jax.vmap(query_driv)(a_range)\n",
    "        g = sns.lineplot(data=pd.DataFrame(jnp.c_[a_range, loss_driv_over_a_range].__array__(), \n",
    "                                       columns=[columns[0], f\"$grad. {columns[1]}$\"]), \n",
    "                     x=columns[0], y=f\"$grad. {columns[1]}$\", ax=axes[1, ax_id])\n",
    "        at = AnchoredText(f\"Max Val (Thr. > 20)={loss_driv_over_a_range[a_range > 20].max()}\", prop=dict(size=10), frameon=True, loc='lower right')\n",
    "        at.patch.set_boxstyle(\"round,pad=0.,rounding_size=0.2\")\n",
    "        axes[1, ax_id].add_artist(at)\n",
    "        axes[0, ax_id].set_title(title)\n",
    "\n",
    "    _subplot(lambda x: 1.0, 0, \"Step\")\n",
    "    _subplot(lambda x: jax.scipy.special.expit(x), 1, \"Logit\")\n",
    "    _subplot(lambda x: x, 2, \"Relu\")\n",
    "    # return fig"
   ]
  },
  {
   "cell_type": "code",
   "execution_count": null,
   "metadata": {},
   "outputs": [],
   "source": [
    "_plot()"
   ]
  },
  {
   "cell_type": "code",
   "execution_count": null,
   "metadata": {},
   "outputs": [],
   "source": [
    "_plot(columns=[\"sigma_1\", \"Accuracy\"], argnum=0)"
   ]
  },
  {
   "cell_type": "code",
   "execution_count": null,
   "metadata": {},
   "outputs": [],
   "source": [
    "_plot(columns=[\"sigma_2\", \"Accuracy\"], argnum=1)"
   ]
  },
  {
   "cell_type": "markdown",
   "metadata": {},
   "source": [
    "# FairPATE"
   ]
  },
  {
   "cell_type": "code",
   "execution_count": null,
   "metadata": {},
   "outputs": [],
   "source": [
    "sensitives = np.random.choice(np.arange(3).astype(float), (1000,), p=[0.1, 0.3, 0.6])"
   ]
  },
  {
   "cell_type": "code",
   "execution_count": null,
   "metadata": {},
   "outputs": [],
   "source": [
    "from functools import partial\n",
    "jit_static1 = partial(jax.jit, static_argnums=2)"
   ]
  },
  {
   "cell_type": "code",
   "execution_count": null,
   "metadata": {},
   "outputs": [],
   "source": [
    "key, subkey1, subkey2 = jax.random.split(key, 3)"
   ]
  },
  {
   "cell_type": "code",
   "execution_count": null,
   "metadata": {},
   "outputs": [],
   "source": [
    "def query_fair_iter(sigma_threshold, sigma_gnmax, threshold, max_fairness_violation, min_group_count, subkey1, subkey2):\n",
    "    # sigma_threshold = 50\n",
    "    # sigma_gnmax = 5.0\n",
    "    # threshold = 2.0\n",
    "    # max_fairness_violation = 0.2\n",
    "    # min_group_count = 50\n",
    "    \n",
    "    func = lambda x: 1.0\n",
    "\n",
    "    num_classes = 10\n",
    "    num_sensitive_attributes = 3\n",
    "    num_samples = raw_votes.shape[0]\n",
    "    votes=raw_votes\n",
    "    noise_threshold = sigma_threshold * jax.random.normal(subkey1, [num_samples])\n",
    "    noise_gnmax = sigma_gnmax * jax.random.normal(subkey2, [num_samples, num_classes])\n",
    "    _shape = (1000, 10, 1)\n",
    "\n",
    "    data = jax.lax.concatenate([jnp.broadcast_to(targets[:, None, None], _shape), \n",
    "                                  jnp.broadcast_to(sensitives[:, None, None], _shape), \n",
    "                                  jnp.broadcast_to(votes[:, :, None], _shape), \n",
    "                                  jnp.broadcast_to(noise_threshold[:, None, None], _shape),\n",
    "                                  jnp.broadcast_to(noise_gnmax[:, :, None], _shape)], 2)\n",
    "\n",
    "    def _calculate_gaps(sensitive_group_count, pos_classified_group_count):\n",
    "        all_members = jnp.sum(sensitive_group_count)\n",
    "        all_pos_classified_group_count = jnp.sum(pos_classified_group_count)\n",
    "        dem_parity = jnp.divide(pos_classified_group_count, sensitive_group_count)\n",
    "        others_count = all_members - sensitive_group_count\n",
    "        others_pos_classified_group_count = all_pos_classified_group_count - pos_classified_group_count\n",
    "        dem_parity_others = jnp.divide(others_pos_classified_group_count, others_count)\n",
    "        gaps = dem_parity - dem_parity_others\n",
    "        return gaps\n",
    "\n",
    "    def _apply_fairness_constraint(pred, sensitive, answered, sensitive_group_count, pos_classified_group_count):\n",
    "        gaps = _calculate_gaps(sensitive_group_count, pos_classified_group_count)\n",
    "        sensitive_one_hot = (jnp.arange(num_sensitive_attributes) == sensitive).astype(float)\n",
    "        sensitive_group_count_per_z = sensitive_one_hot.dot(sensitive_group_count)\n",
    "        pos_classified_group_count_per_z = sensitive_one_hot.dot(pos_classified_group_count)\n",
    "        answered = jax.lax.cond(sensitive_one_hot.dot(sensitive_group_count) < min_group_count, \n",
    "                             (answered, pred, gaps), lambda x: x[0],\n",
    "                             (answered, pred, gaps), lambda x: jax.lax.cond(x[1] == 0.0, \n",
    "                                                                   x, lambda y: y[0],\n",
    "                                                                   x, lambda y: jax.lax.cond(sensitive_one_hot.dot(y[2]) < max_fairness_violation,\n",
    "                                                                                                     y, lambda z: z[0],\n",
    "                                                                                                     y, lambda z: 0.0)\n",
    "                                                                  )\n",
    "                           )\n",
    "\n",
    "        sensitive_group_count = jax.lax.cond(answered == 1.,\n",
    "                                         sensitive_group_count, lambda x: x+sensitive_one_hot,\n",
    "                                         sensitive_group_count, lambda x: x)\n",
    "\n",
    "        pos_classified_group_count = jax.lax.cond(answered == 1.,\n",
    "                                         (pos_classified_group_count, pred), lambda x: x[0] + sensitive_one_hot * jax.lax.cond(x[1]==1., 1., lambda x: x, 0., lambda x:x), \n",
    "                                         (pos_classified_group_count, pred), lambda x: x[0])\n",
    "\n",
    "        return answered, sensitive_group_count, pos_classified_group_count\n",
    "\n",
    "    def _predict(output, _data):\n",
    "        acc, sensitive_group_count, pos_classified_group_count = output\n",
    "        _target = _data[0, 0]\n",
    "        _sensitive = _data[0, 1]\n",
    "        _vote = _data[:, 2]\n",
    "        _noise_threshold = _data[0, 3]\n",
    "        _noise_gnmax = _data[:, 4]\n",
    "        \n",
    "        vote_count = _vote.max()\n",
    "        noisy_vote_count = vote_count + _noise_threshold\n",
    "        answered = jax.lax.cond(noisy_vote_count > threshold, threshold, func, threshold, lambda x: 0.0)\n",
    "        pred = (_vote + _noise_gnmax).argmax()\n",
    "        answered, sensitive_group_count, pos_classified_group_count = \\\n",
    "                            _apply_fairness_constraint(pred, _sensitive, answered, sensitive_group_count, pos_classified_group_count)\n",
    "        acc = acc + answered * (pred==_target).astype(int)\n",
    "        output = acc, sensitive_group_count, pos_classified_group_count\n",
    "        return output, answered\n",
    "\n",
    "    output, answered = jax.lax.scan(_predict, (jnp.zeros((1,)), jnp.zeros((num_sensitive_attributes,)), jnp.zeros((num_sensitive_attributes,))), data, length=len(votes))\n",
    "    accuracy = output[0]/num_samples\n",
    "    gaps = _calculate_gaps(*output[1:])\n",
    "    return accuracy[0]"
   ]
  },
  {
   "cell_type": "code",
   "execution_count": null,
   "metadata": {},
   "outputs": [],
   "source": [
    "query_fair_iter(50.0, 5.0, 0.22, 0.2, 50, subkey1, subkey2)"
   ]
  },
  {
   "cell_type": "code",
   "execution_count": null,
   "metadata": {},
   "outputs": [],
   "source": [
    "# query_fair_iter_jit = jax.jit(lambda t: query_fair_iter(t, 5.0, 0.22, 0.2, 50, subkey1, subkey2))\n",
    "# query_fair_iter_jit(50.0)"
   ]
  },
  {
   "cell_type": "code",
   "execution_count": null,
   "metadata": {},
   "outputs": [],
   "source": [
    "# query_fair_iter_driv = jax.grad(lambda x: query_fair_iter_jit(x)[0][0])\n",
    "# query_fair_iter_driv(50.0)"
   ]
  },
  {
   "cell_type": "code",
   "execution_count": null,
   "metadata": {},
   "outputs": [],
   "source": [
    "def _plot(columns=[\"Threshold\", \"Accuracy\"], argnum=2):\n",
    "    fig, axes = plt.subplots(2, 1, sharex=True, dpi=150, figsize=(5, 5))\n",
    "    axes = axes.reshape(2, -1)\n",
    "    def _subplot(ax_id, title):\n",
    "        a_range = jnp.logspace(-7, 2, num=1000)\n",
    "        defaults = [50.0, 5.0, 0.22, 0.2, 50]\n",
    "        in_axes = [0 if _id == argnum else None for _id in range(len(defaults))] + [None, None]\n",
    "        _inputs = [a_range if _id == argnum else defaults[_id] for _id in range(len(defaults))]\n",
    "        loss_over_a_range = jax.vmap(query_fair_iter, in_axes=tuple(in_axes))(*_inputs, subkey1, subkey2)\n",
    "        \n",
    "        print(loss_over_a_range.shape)\n",
    "        data = pd.DataFrame(jnp.c_[a_range, loss_over_a_range].__array__(), columns=columns)\n",
    "\n",
    "\n",
    "        sns.lineplot(data=data, y=columns[1], x=columns[0], ax=axes[0, ax_id])\n",
    "        \n",
    "        \n",
    "        query_driv = lambda t: jax.grad(query_fair_iter, argnums=argnum, allow_int=True)(*([t if _id==argnum else defaults[_id] for _id in range(5)] + [subkey1, subkey2]))\n",
    "        \n",
    "        query_driv(2)\n",
    "        loss_driv_over_a_range = jax.vmap(query_driv)(a_range)\n",
    "        g = sns.lineplot(data=pd.DataFrame(jnp.c_[a_range, loss_driv_over_a_range].__array__(), \n",
    "                                       columns=[columns[0], f\"$grad. {columns[1]}$\"]), \n",
    "                     x=columns[0], y=f\"$grad. {columns[1]}$\", ax=axes[1, ax_id])\n",
    "        at = AnchoredText(f\"Max Val (Thr. > 20)={loss_driv_over_a_range[a_range > 20].max()}\", prop=dict(size=10), frameon=True, loc='lower right')\n",
    "        at.patch.set_boxstyle(\"round,pad=0.,rounding_size=0.2\")\n",
    "        axes[1, ax_id].add_artist(at)\n",
    "\n",
    "    _subplot(0, \"\")\n",
    "    # return fig"
   ]
  },
  {
   "cell_type": "code",
   "execution_count": null,
   "metadata": {},
   "outputs": [],
   "source": [
    "_plot(argnum=4)"
   ]
  },
  {
   "cell_type": "code",
   "execution_count": null,
   "metadata": {},
   "outputs": [],
   "source": []
  }
 ],
 "metadata": {
  "accelerator": "GPU",
  "colab": {
   "collapsed_sections": [],
   "name": "nosisy_aggr_jax.ipynb",
   "provenance": []
  },
  "kernelspec": {
   "display_name": "Python 3 (ipykernel)",
   "language": "python",
   "name": "python3"
  },
  "language_info": {
   "codemirror_mode": {
    "name": "ipython",
    "version": 3
   },
   "file_extension": ".py",
   "mimetype": "text/x-python",
   "name": "python",
   "nbconvert_exporter": "python",
   "pygments_lexer": "ipython3",
   "version": "3.9.7"
  }
 },
 "nbformat": 4,
 "nbformat_minor": 4
}
