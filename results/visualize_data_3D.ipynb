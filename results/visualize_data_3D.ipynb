{
  "cells": [
    {
      "cell_type": "markdown",
      "metadata": {
        "id": "4AT02JNjyEUJ"
      },
      "source": [
        "# Graphing Results"
      ]
    },
    {
      "cell_type": "code",
      "execution_count": null,
      "metadata": {
        "id": "T-7VP_dEM5jA"
      },
      "outputs": [],
      "source": [
        "# This is a notebook for data visualization for FairPATE\n",
        "DATA_PATH = 'colormnist_100_search.csv'\n",
        "plot_title = \"CMNIST Dataset 100 Models Ensemble\"\n"
      ]
    },
    {
      "cell_type": "code",
      "execution_count": null,
      "metadata": {},
      "outputs": [],
      "source": [
        "pwd"
      ]
    },
    {
      "cell_type": "code",
      "execution_count": null,
      "metadata": {
        "id": "T-dMHHTaNWmJ"
      },
      "outputs": [],
      "source": [
        "import matplotlib.pyplot as plt\n",
        "import pandas as pd\n",
        "import seaborn as sns\n",
        "import json\n",
        "import ast"
      ]
    },
    {
      "cell_type": "code",
      "execution_count": null,
      "metadata": {
        "colab": {
          "base_uri": "https://localhost:8080/",
          "height": 565
        },
        "id": "uO5xE-TFNZ45",
        "outputId": "f43551f5-4d8c-4cf0-fb07-9325c657ef8c"
      },
      "outputs": [],
      "source": [
        "# read the dataframe\n",
        "df = pd.read_csv(DATA_PATH)\n",
        "df.head()"
      ]
    },
    {
      "cell_type": "code",
      "execution_count": null,
      "metadata": {
        "colab": {
          "base_uri": "https://localhost:8080/"
        },
        "id": "K-HEYa1WRDFP",
        "outputId": "94d0b736-50a4-4bd2-b92a-e6980a21ca97"
      },
      "outputs": [],
      "source": [
        "# the csv is messy: there are white spaces before some column names. \n",
        "df.columns"
      ]
    },
    {
      "cell_type": "code",
      "execution_count": null,
      "metadata": {
        "colab": {
          "base_uri": "https://localhost:8080/",
          "height": 565
        },
        "id": "1zGeXP1INt5b",
        "outputId": "827c6f2c-1322-466e-e600-0799a544f368"
      },
      "outputs": [],
      "source": [
        "# there is a problem: the ' fairness disparity gaps' column holds the dict, but as a string\n",
        "# so I need to convert it\n",
        "df['fair_dict'] = df[' fairness disparity gaps'].transform(lambda x: ast.literal_eval(x))\n",
        "\n",
        "# only then am I able to fetch the smallest value\n",
        "df['highest_fair_violation'] = df['fair_dict'].transform(lambda x: max(x.values()))\n",
        "df.head()\n"
      ]
    },
    {
      "cell_type": "code",
      "execution_count": null,
      "metadata": {
        "colab": {
          "base_uri": "https://localhost:8080/",
          "height": 293
        },
        "id": "BMxWcR9aPf0M",
        "outputId": "97dcd479-70cb-49d5-ebe4-09f100230fae"
      },
      "outputs": [],
      "source": [
        "sns.set(style = \"darkgrid\")\n",
        "\n",
        "fig = plt.figure()\n",
        "ax = fig.add_subplot(111, projection = '3d')\n",
        "\n",
        "x = df['highest_fair_violation']\n",
        "y = df[' achieved budget']\n",
        "z = df[' accuracy']\n",
        "\n",
        "ax.set_xlabel(\"Fairness Violation\")\n",
        "ax.set_ylabel(\"Privacy Budget\")\n",
        "ax.set_zlabel(\"Accuracy\")\n",
        "\n",
        "ax.scatter(x, y, z)\n",
        "plt.tight_layout()\n",
        "plt.show()"
      ]
    },
    {
      "cell_type": "code",
      "execution_count": null,
      "metadata": {
        "id": "trewumj-kLIy"
      },
      "outputs": [],
      "source": [
        "# bucket the fairness gap values\n",
        "df['fairness'] = pd.cut(df['highest_fair_violation'], bins=3)"
      ]
    },
    {
      "cell_type": "code",
      "execution_count": null,
      "metadata": {
        "id": "aOQDMYEoPcET"
      },
      "outputs": [],
      "source": [
        "# bucket the accuracy values\n",
        "df['binned accuracy'] = pd.cut(df[' accuracy'], bins=3)"
      ]
    },
    {
      "cell_type": "code",
      "execution_count": null,
      "metadata": {},
      "outputs": [],
      "source": [
        "# also need to bin the number of query answered\n",
        "df['number answered'] = pd.cut(df[' number answered'], bins=3)"
      ]
    },
    {
      "cell_type": "code",
      "execution_count": null,
      "metadata": {
        "id": "H39xU_VmNDUr"
      },
      "outputs": [],
      "source": [
        "# plot with different colours and with accuracy as colours\n",
        "ax = sns.scatterplot(data=df, \n",
        "                x=' achieved budget', \n",
        "                y='highest_fair_violation',\n",
        "                hue='binned accuracy', \n",
        "                palette = 'mako', \n",
        "                legend=True,\n",
        "                s=80\n",
        "                )\n",
        "ax.set(title=plot_title)\n",
        "ax.set(xlabel='achieved budget', ylabel='fairness gap')\n",
        "ax.legend(title='accuracy',loc='center left', bbox_to_anchor=(1, 0.5), ncol=1)"
      ]
    },
    {
      "cell_type": "code",
      "execution_count": null,
      "metadata": {
        "id": "VGinvYn0O6aX"
      },
      "outputs": [],
      "source": [
        "# plot with fairness gap as line styles and number of queries answered as colours\n",
        "df = df.sort_values(\" achieved budget\")\n",
        "ax = sns.lineplot(data=df, \n",
        "                x=' achieved budget', \n",
        "                y=' accuracy',\n",
        "                hue='number answered',\n",
        "                style='fairness',\n",
        "                palette='magma',\n",
        "                legend=True\n",
        "                )\n",
        "ax.set(title=plot_title)\n",
        "ax.legend(loc='center left', bbox_to_anchor=(1, 0.5), ncol=1)"
      ]
    },
    {
      "cell_type": "code",
      "execution_count": null,
      "metadata": {},
      "outputs": [],
      "source": [
        "# plot with different colours and with fairness gap as colours\n",
        "ax = sns.scatterplot(data=df, \n",
        "                x=' achieved budget', \n",
        "                y=' number answered',\n",
        "                hue='number answered',\n",
        "                palette='magma',\n",
        "                legend=True,\n",
        "                s=80\n",
        "                )\n",
        "ax.set(title=plot_title)\n",
        "# ax.legend(title='fairness gap', loc='center left', bbox_to_anchor=(1, 0.5), ncol=1)\n",
        "\n",
        "norm = plt.Normalize(df['highest_fair_violation'].min(), df['highest_fair_violation'].max())\n",
        "sm = plt.cm.ScalarMappable(cmap=\"magma\", norm=norm)\n",
        "sm.set_array([])\n",
        "ax.get_legend().remove()\n",
        "ax.figure.colorbar(sm, label=\"fairness\")\n"
      ]
    },
    {
      "cell_type": "code",
      "execution_count": null,
      "metadata": {
        "id": "izAFrV_aRXft"
      },
      "outputs": [],
      "source": [
        "# plot with different opacity\n",
        "# darker colour means larger fairness gap (will add legend later)\n",
        "alpha = [0.7, 0.5, 0.3]\n",
        "for i in range(3):\n",
        "  data=df[df.fairness.cat.codes == i]\n",
        "\n",
        "  plt.scatter(data[' achieved budget'], data[' accuracy'], \n",
        "              alpha = alpha[i], color = 'olive', s = 80)\n",
        "\n",
        "plt.xlabel(\"privacy budget\")\n",
        "plt.ylabel(\"accuracy\")\n",
        "plt.show()"
      ]
    },
    {
      "cell_type": "code",
      "execution_count": null,
      "metadata": {},
      "outputs": [],
      "source": [
        "# also need to bin the number of query answered\n",
        "df['number answered'] = pd.cut(df[' number answered'], bins=3)"
      ]
    },
    {
      "cell_type": "code",
      "execution_count": null,
      "metadata": {},
      "outputs": [],
      "source": [
        "g = sns.FacetGrid(df, row='number answered', hue='fairness', palette='magma')\n",
        "g.map(sns.scatterplot, ' achieved budget', ' accuracy')\n",
        "g.add_legend(title='fairness gap', loc='center left', bbox_to_anchor=(0.8, 0.5))"
      ]
    }
  ],
  "metadata": {
    "colab": {
      "collapsed_sections": [],
      "name": "visualize_data_3D.ipynb",
      "provenance": []
    },
    "kernelspec": {
      "display_name": "Python 3",
      "language": "python",
      "name": "python3"
    },
    "language_info": {
      "codemirror_mode": {
        "name": "ipython",
        "version": 3
      },
      "file_extension": ".py",
      "mimetype": "text/x-python",
      "name": "python",
      "nbconvert_exporter": "python",
      "pygments_lexer": "ipython3",
      "version": "3.10.6 (main, Nov 14 2022, 16:10:14) [GCC 11.3.0]"
    },
    "vscode": {
      "interpreter": {
        "hash": "31f2aee4e71d21fbe5cf8b01ff0e069b9275f58929596ceb00d14d90e3e16cd6"
      }
    }
  },
  "nbformat": 4,
  "nbformat_minor": 0
}
